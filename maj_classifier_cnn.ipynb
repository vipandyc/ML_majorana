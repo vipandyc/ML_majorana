{
 "cells": [
  {
   "cell_type": "markdown",
   "metadata": {},
   "source": [
    "Now go on to classify the real majorana data using neural network!"
   ]
  },
  {
   "cell_type": "code",
   "execution_count": 1,
   "metadata": {},
   "outputs": [
    {
     "data": {
      "text/plain": [
       "(12000, 28, 28)"
      ]
     },
     "execution_count": 1,
     "metadata": {},
     "output_type": "execute_result"
    }
   ],
   "source": [
    "import numpy as np\n",
    "from matplotlib import pyplot as plt\n",
    "from scipy.ndimage import gaussian_filter\n",
    "\n",
    "good_data_small = np.load('datasets/True_majsts_data_small.npy')\n",
    "good_data_large = np.load('datasets/True_majsts_data_large.npy')\n",
    "bad_data_small = np.load('datasets/Andreev_majsts_data_small.npy')\n",
    "bad_data_large = np.load('datasets/Andreev_majsts_data_large.npy')\n",
    "ugly_data_small = np.load('datasets/Ugly_majsts_data_small.npy')\n",
    "ugly_data_large = np.load('datasets/Ugly_majsts_data_large.npy')\n",
    "\n",
    "good_data = np.concatenate([good_data_small, good_data_large], axis=0)\n",
    "bad_data = np.concatenate([bad_data_small, bad_data_large], axis=0)\n",
    "ugly_data = np.concatenate([ugly_data_small, ugly_data_large], axis=0)\n",
    "\n",
    "N1, N2, N3 = len(good_data), len(bad_data), len(ugly_data)\n",
    "data = np.concatenate([good_data, bad_data, ugly_data], axis=0)\n",
    "\n",
    "N = len(data)\n",
    "# we can keep the order, because scikit can shuffle them later\n",
    "labels = np.concatenate([np.ones(N1), np.zeros(N2), np.zeros(N3)])\n",
    "np.shape(data)"
   ]
  },
  {
   "cell_type": "markdown",
   "metadata": {},
   "source": [
    "To make the machine learning more confusing (Adversarial attack), we can add Gaussain noise smearing."
   ]
  },
  {
   "cell_type": "code",
   "execution_count": 2,
   "metadata": {},
   "outputs": [],
   "source": [
    "# sigma=3, ampl=0.1\n",
    "for i in range(N):\n",
    "    data[i] += 0.2 * np.random.normal(size=(28, 28))\n",
    "    data[i] = gaussian_filter(data[i], sigma=2)\n",
    "data = data.reshape((N, -1))"
   ]
  },
  {
   "cell_type": "markdown",
   "metadata": {},
   "source": [
    "We can use **Anomaly Detection** method to eliminate some unrealistic data out of the training dataset.\n",
    "\n",
    "For example, we use Isolation Forest to post process."
   ]
  },
  {
   "cell_type": "code",
   "execution_count": 3,
   "metadata": {},
   "outputs": [],
   "source": [
    "from sklearn.ensemble import IsolationForest\n",
    "clf = IsolationForest(n_estimators=100, max_samples='auto', contamination=0.1, random_state=42)\n",
    "clf.fit(data)\n",
    "\n",
    "# filter\n",
    "predictions = clf.predict(data)\n",
    "data = data[predictions == 1]\n",
    "labels = labels[predictions == 1]\n",
    "data = data.reshape((-1, 28, 28))"
   ]
  },
  {
   "cell_type": "markdown",
   "metadata": {},
   "source": [
    "Now generate test & training set, and feed this into the Convolutional Neural Network."
   ]
  },
  {
   "cell_type": "code",
   "execution_count": 4,
   "metadata": {},
   "outputs": [],
   "source": [
    "from sklearn.model_selection import train_test_split\n",
    "import torch.nn as nn\n",
    "import torch.nn.functional as F\n",
    "import torch\n",
    "from torch.utils.data import Dataset, DataLoader\n",
    "\n",
    "# Splitting data into training and testing sets\n",
    "train_data, test_data, train_labels, test_labels = train_test_split(data, labels, test_size=0.25, random_state=42)\n",
    "\n",
    "class CustomDataset(Dataset):\n",
    "    def __init__(self, data, labels):\n",
    "        self.data = data\n",
    "        self.labels = labels\n",
    "\n",
    "    def __len__(self):\n",
    "        return len(self.data)\n",
    "\n",
    "    def __getitem__(self, idx):\n",
    "        sample_data = torch.tensor(self.data[idx], dtype=torch.float32).unsqueeze(0)  # Adding channel dimension\n",
    "        sample_label = torch.tensor(self.labels[idx], dtype=torch.long)\n",
    "        return sample_data, sample_label\n",
    "\n",
    "class SimpleCNN(nn.Module):\n",
    "    def __init__(self):\n",
    "        super(SimpleCNN, self).__init__()\n",
    "        self.conv1 = nn.Conv2d(1, 32, 3, 1)  # 1 input channel, 32 output channels, 3x3 kernel\n",
    "        self.conv2 = nn.Conv2d(32, 64, 3, 1)\n",
    "        self.fc1 = nn.Linear(64*5*5, 128)   # The size is reduced to 5x5 after pooling\n",
    "        self.fc2 = nn.Linear(128, 2)        # Binary classification\n",
    "\n",
    "    def forward(self, x):\n",
    "        x = F.relu(self.conv1(x))\n",
    "        x = F.max_pool2d(x, 2)\n",
    "        x = F.relu(self.conv2(x))\n",
    "        x = F.max_pool2d(x, 2)\n",
    "        x = torch.flatten(x, 1)\n",
    "        x = F.relu(self.fc1(x))\n",
    "        x = self.fc2(x)\n",
    "        return F.log_softmax(x, dim=1)\n"
   ]
  },
  {
   "cell_type": "markdown",
   "metadata": {},
   "source": [
    "Start training."
   ]
  },
  {
   "cell_type": "code",
   "execution_count": 5,
   "metadata": {},
   "outputs": [
    {
     "name": "stderr",
     "output_type": "stream",
     "text": [
      "C:\\Users\\vipandyc\\AppData\\Local\\Temp\\ipykernel_4508\\1772141168.py:20: DeprecationWarning: an integer is required (got type numpy.float64).  Implicit conversion to integers using __int__ is deprecated, and may be removed in a future version of Python.\n",
      "  sample_label = torch.tensor(self.labels[idx], dtype=torch.long)\n"
     ]
    },
    {
     "name": "stdout",
     "output_type": "stream",
     "text": [
      "Epoch [1/100], Loss: 0.4152\n",
      "Epoch [2/100], Loss: 0.3235\n",
      "Epoch [3/100], Loss: 0.2392\n",
      "Epoch [4/100], Loss: 0.2042\n",
      "Epoch [5/100], Loss: 0.2280\n",
      "Epoch [6/100], Loss: 0.3708\n",
      "Epoch [7/100], Loss: 0.1028\n",
      "Epoch [8/100], Loss: 0.2131\n",
      "Epoch [9/100], Loss: 0.1448\n",
      "Epoch [10/100], Loss: 0.1192\n",
      "Epoch [11/100], Loss: 0.2478\n",
      "Epoch [12/100], Loss: 0.1527\n",
      "Epoch [13/100], Loss: 0.2199\n",
      "Epoch [14/100], Loss: 0.0782\n",
      "Epoch [15/100], Loss: 0.2554\n",
      "Epoch [16/100], Loss: 0.1824\n",
      "Epoch [17/100], Loss: 0.3021\n",
      "Epoch [18/100], Loss: 0.1076\n",
      "Epoch [19/100], Loss: 0.1164\n",
      "Epoch [20/100], Loss: 0.0518\n",
      "Epoch [21/100], Loss: 0.1523\n",
      "Epoch [22/100], Loss: 0.0959\n",
      "Epoch [23/100], Loss: 0.1272\n",
      "Epoch [24/100], Loss: 0.0870\n",
      "Epoch [25/100], Loss: 0.1961\n",
      "Epoch [26/100], Loss: 0.1237\n",
      "Epoch [27/100], Loss: 0.1667\n",
      "Epoch [28/100], Loss: 0.0739\n",
      "Epoch [29/100], Loss: 0.1969\n",
      "Epoch [30/100], Loss: 0.0530\n",
      "Epoch [31/100], Loss: 0.0802\n",
      "Epoch [32/100], Loss: 0.1964\n",
      "Epoch [33/100], Loss: 0.0171\n",
      "Epoch [34/100], Loss: 0.0884\n",
      "Epoch [35/100], Loss: 0.0350\n",
      "Epoch [36/100], Loss: 0.0983\n",
      "Epoch [37/100], Loss: 0.0519\n",
      "Epoch [38/100], Loss: 0.1760\n",
      "Epoch [39/100], Loss: 0.0518\n",
      "Epoch [40/100], Loss: 0.1469\n",
      "Epoch [41/100], Loss: 0.1111\n",
      "Epoch [42/100], Loss: 0.1041\n",
      "Epoch [43/100], Loss: 0.1413\n",
      "Epoch [44/100], Loss: 0.0882\n",
      "Epoch [45/100], Loss: 0.0437\n",
      "Epoch [46/100], Loss: 0.2067\n",
      "Epoch [47/100], Loss: 0.1559\n",
      "Epoch [48/100], Loss: 0.1126\n",
      "Epoch [49/100], Loss: 0.0483\n",
      "Epoch [50/100], Loss: 0.0543\n",
      "Epoch [51/100], Loss: 0.0056\n",
      "Epoch [52/100], Loss: 0.0423\n",
      "Epoch [53/100], Loss: 0.0499\n",
      "Epoch [54/100], Loss: 0.0992\n",
      "Epoch [55/100], Loss: 0.0290\n",
      "Epoch [56/100], Loss: 0.0851\n",
      "Epoch [57/100], Loss: 0.0355\n",
      "Epoch [58/100], Loss: 0.0888\n",
      "Epoch [59/100], Loss: 0.0855\n",
      "Epoch [60/100], Loss: 0.0644\n",
      "Epoch [61/100], Loss: 0.0754\n",
      "Epoch [62/100], Loss: 0.0294\n",
      "Epoch [63/100], Loss: 0.0445\n",
      "Epoch [64/100], Loss: 0.0566\n",
      "Epoch [65/100], Loss: 0.1469\n",
      "Epoch [66/100], Loss: 0.0102\n",
      "Epoch [67/100], Loss: 0.0577\n",
      "Epoch [68/100], Loss: 0.0965\n",
      "Epoch [69/100], Loss: 0.1238\n",
      "Epoch [70/100], Loss: 0.0385\n",
      "Epoch [71/100], Loss: 0.0864\n",
      "Epoch [72/100], Loss: 0.1658\n",
      "Epoch [73/100], Loss: 0.0507\n",
      "Epoch [74/100], Loss: 0.0379\n",
      "Epoch [75/100], Loss: 0.0337\n",
      "Epoch [76/100], Loss: 0.1043\n",
      "Epoch [77/100], Loss: 0.1208\n",
      "Epoch [78/100], Loss: 0.0394\n",
      "Epoch [79/100], Loss: 0.0042\n",
      "Epoch [80/100], Loss: 0.0942\n",
      "Epoch [81/100], Loss: 0.0369\n",
      "Epoch [82/100], Loss: 0.1131\n",
      "Epoch [83/100], Loss: 0.1261\n",
      "Epoch [84/100], Loss: 0.0175\n",
      "Epoch [85/100], Loss: 0.0042\n",
      "Epoch [86/100], Loss: 0.0747\n",
      "Epoch [87/100], Loss: 0.0025\n",
      "Epoch [88/100], Loss: 0.0017\n",
      "Epoch [89/100], Loss: 0.0193\n",
      "Epoch [90/100], Loss: 0.0051\n",
      "Epoch [91/100], Loss: 0.0134\n",
      "Epoch [92/100], Loss: 0.0368\n",
      "Epoch [93/100], Loss: 0.0496\n",
      "Epoch [94/100], Loss: 0.0095\n",
      "Epoch [95/100], Loss: 0.0482\n",
      "Epoch [96/100], Loss: 0.0255\n",
      "Epoch [97/100], Loss: 0.0380\n",
      "Epoch [98/100], Loss: 0.1473\n",
      "Epoch [99/100], Loss: 0.0384\n",
      "Epoch [100/100], Loss: 0.1709\n"
     ]
    }
   ],
   "source": [
    "# Hyperparameters\n",
    "learning_rate = 0.001\n",
    "num_epochs = 100\n",
    "batch_size = 64\n",
    "\n",
    "# Dataloaders\n",
    "train_dataset = CustomDataset(train_data, train_labels)\n",
    "train_loader = DataLoader(train_dataset, batch_size=batch_size, shuffle=True)\n",
    "\n",
    "test_dataset = CustomDataset(test_data, test_labels)\n",
    "test_loader = DataLoader(test_dataset, batch_size=batch_size, shuffle=False)\n",
    "\n",
    "# Model, loss and optimizer\n",
    "model = SimpleCNN()\n",
    "criterion = nn.CrossEntropyLoss()\n",
    "optimizer = torch.optim.Adam(model.parameters(), lr=learning_rate)\n",
    "\n",
    "# Training loop\n",
    "for epoch in range(num_epochs):\n",
    "    model.train()\n",
    "    for data, labels in train_loader:\n",
    "        optimizer.zero_grad()\n",
    "        outputs = model(data)\n",
    "        loss = criterion(outputs, labels)\n",
    "        loss.backward()\n",
    "        optimizer.step()\n",
    "    print(f\"Epoch [{epoch+1}/{num_epochs}], Loss: {loss.item():.4f}\")"
   ]
  },
  {
   "cell_type": "markdown",
   "metadata": {},
   "source": [
    "Test the accuracy."
   ]
  },
  {
   "cell_type": "code",
   "execution_count": 6,
   "metadata": {},
   "outputs": [
    {
     "name": "stderr",
     "output_type": "stream",
     "text": [
      "C:\\Users\\vipandyc\\AppData\\Local\\Temp\\ipykernel_4508\\1772141168.py:20: DeprecationWarning: an integer is required (got type numpy.float64).  Implicit conversion to integers using __int__ is deprecated, and may be removed in a future version of Python.\n",
      "  sample_label = torch.tensor(self.labels[idx], dtype=torch.long)\n"
     ]
    },
    {
     "name": "stdout",
     "output_type": "stream",
     "text": [
      "Accuracy: 95.14814814814815%\n"
     ]
    }
   ],
   "source": [
    "model.eval()\n",
    "correct = 0\n",
    "total = 0\n",
    "with torch.no_grad():\n",
    "    for data, labels in test_loader:\n",
    "        outputs = model(data)\n",
    "        _, predicted = torch.max(outputs, 1)\n",
    "        total += labels.size(0)\n",
    "        correct += (predicted == labels).sum().item()\n",
    "\n",
    "print(f\"Accuracy: {100 * correct / total}%\")"
   ]
  },
  {
   "cell_type": "markdown",
   "metadata": {},
   "source": [
    "Deep learning wins!"
   ]
  }
 ],
 "metadata": {
  "kernelspec": {
   "display_name": "Python 3",
   "language": "python",
   "name": "python3"
  },
  "language_info": {
   "codemirror_mode": {
    "name": "ipython",
    "version": 3
   },
   "file_extension": ".py",
   "mimetype": "text/x-python",
   "name": "python",
   "nbconvert_exporter": "python",
   "pygments_lexer": "ipython3",
   "version": "3.8.0"
  },
  "orig_nbformat": 4
 },
 "nbformat": 4,
 "nbformat_minor": 2
}
