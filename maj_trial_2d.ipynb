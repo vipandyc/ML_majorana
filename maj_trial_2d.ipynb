{
 "cells": [
  {
   "cell_type": "markdown",
   "metadata": {},
   "source": [
    "The last piece of this puzzle: start the real data testing!\n",
    "\n",
    "Theoretically, we do not know the exact scale on the horizontal axis, so that's why we included two different scales of horizontal axis' data. Anyway to make this general we use the full trained data."
   ]
  },
  {
   "cell_type": "code",
   "execution_count": 11,
   "metadata": {},
   "outputs": [
    {
     "name": "stdout",
     "output_type": "stream",
     "text": [
      "4.0\n",
      "(16, 784)\n",
      "Prediction of experiments are (True/False) majorana zero mode:\n",
      "[1 0 0 0 0 0 0 1 0 0 0 0 0 0 0 0]\n",
      "Probabilities:\n",
      "[[1.3440341e-01 8.6559659e-01]\n",
      " [7.8480583e-01 2.1519417e-01]\n",
      " [9.9646461e-01 3.5353871e-03]\n",
      " [9.9982476e-01 1.7521465e-04]\n",
      " [9.9797410e-01 2.0258741e-03]\n",
      " [9.8304486e-01 1.6955154e-02]\n",
      " [9.9996036e-01 3.9626040e-05]\n",
      " [4.3942094e-01 5.6057906e-01]\n",
      " [9.9994475e-01 5.5229877e-05]\n",
      " [9.9980634e-01 1.9366524e-04]\n",
      " [9.9834603e-01 1.6539878e-03]\n",
      " [9.9820942e-01 1.7906007e-03]\n",
      " [7.8596336e-01 2.1403664e-01]\n",
      " [6.5449959e-01 3.4550041e-01]\n",
      " [9.9632186e-01 3.6781349e-03]\n",
      " [9.9604011e-01 3.9599128e-03]]\n"
     ]
    }
   ],
   "source": [
    "# Read the xgboost model: 94% accuracy\n",
    "import numpy as np\n",
    "from sklearn import datasets\n",
    "import pickle\n",
    "from matplotlib import pyplot as plt\n",
    "\n",
    "with open('clf_xgboost.pickle', 'rb') as f:\n",
    "    clf2 = pickle.load(f)\n",
    "\n",
    "trial_data = np.load('total_exp_data.npy')\n",
    "print(np.max(trial_data))\n",
    "\n",
    "N = len(trial_data)\n",
    "trial_data = trial_data.reshape((N, -1))\n",
    "print(np.shape(trial_data))\n",
    "\n",
    "\n",
    "result_prob = clf2.predict_proba(trial_data)\n",
    "result = clf2.predict(trial_data)\n",
    "print(f'Prediction of experiments are (True/False) majorana zero mode:')\n",
    "print(result)\n",
    "print('Probabilities:')\n",
    "print(result_prob)"
   ]
  },
  {
   "cell_type": "markdown",
   "metadata": {},
   "source": [
    "Plot some histogram:"
   ]
  },
  {
   "cell_type": "code",
   "execution_count": 12,
   "metadata": {},
   "outputs": [
    {
     "data": {
      "image/png": "[encoded data removed]",
      "text/plain": [
       "<Figure size 432x288 with 1 Axes>"
      ]
     },
     "metadata": {
      "needs_background": "light"
     },
     "output_type": "display_data"
    }
   ],
   "source": [
    "from matplotlib import pyplot as plt\n",
    "values = 1 - result_prob[:, 1]\n",
    "indexes = range(1, 17)\n",
    "\n",
    "plt.rcParams['font.size'] = 12\n",
    "for idx, val in zip(indexes, values):\n",
    "    color = 'darkgreen' if val < 0.5 else 'darkred'\n",
    "    plt.bar(idx, val, color=color, alpha=0.7)\n",
    "\n",
    "plt.fill_between(range(21), 0, 0.5, color='green', alpha=0.3)\n",
    "plt.fill_between(range(21), 0.5, 1, color='red', alpha=0.3)\n",
    "plt.xticks(range(1, 17))\n",
    "plt.xlabel('Exp 2D Sample Data')\n",
    "plt.xlim(0, 20)\n",
    "plt.ylim(0, 1.05)\n",
    "plt.ylabel('Null Result Probability')\n",
    "#plt.savefig('Exptrial_results_2d.svg')\n",
    "plt.show()"
   ]
  }
 ],
 "metadata": {
  "kernelspec": {
   "display_name": "Python 3",
   "language": "python",
   "name": "python3"
  },
  "language_info": {
   "codemirror_mode": {
    "name": "ipython",
    "version": 3
   },
   "file_extension": ".py",
   "mimetype": "text/x-python",
   "name": "python",
   "nbconvert_exporter": "python",
   "pygments_lexer": "ipython3",
   "version": "3.8.0"
  },
  "orig_nbformat": 4
 },
 "nbformat": 4,
 "nbformat_minor": 2
}
