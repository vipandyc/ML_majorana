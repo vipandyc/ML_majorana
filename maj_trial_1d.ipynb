{
 "cells": [
  {
   "cell_type": "markdown",
   "metadata": {},
   "source": [
    "The last piece of this puzzle: start the real data testing!\n",
    "\n",
    "Theoretically, we do not know the exact scale on the horizontal axis, so that's why we included two different scales of horizontal axis' data. Anyway to make this general we use the full trained data.\n",
    "\n",
    "Note: this notebook is for 1D, may need extra care, i.e. multiple 1D curves for one 2D figure. Take averages for them."
   ]
  },
  {
   "cell_type": "code",
   "execution_count": 43,
   "metadata": {},
   "outputs": [
    {
     "name": "stdout",
     "output_type": "stream",
     "text": [
      "(16, 28, 28)\n",
      "[0, 0, 0, 1, 1, 1, 2, 2, 2, 2, 2, 2, 2, 2, 3, 3, 3, 3, 3, 3, 4, 4, 4, 4, 4, 4, 4, 4, 4, 5, 5, 5, 5, 5, 5, 5, 5, 5, 5, 5, 5, 5, 5, 5, 5, 6, 6, 6, 6, 6, 6, 6, 6, 6, 6, 6, 6, 6, 7, 7, 7, 7, 7, 7, 7, 7, 8, 8, 8, 8, 8, 8, 8, 8, 8, 8, 8, 8, 8, 8, 8, 8, 8, 8, 8, 9, 9, 9, 9, 9, 9, 9, 9, 9, 9, 9, 9, 9, 9, 9, 10, 10, 10, 10, 10, 10, 10, 10, 10, 10, 11, 11, 11, 11, 11, 11, 11, 11, 11, 11, 11, 11, 11, 11, 11, 11, 11, 11, 11, 12, 12, 12, 12, 12, 12, 13, 13, 13, 13, 13, 13, 13, 14, 14, 14, 14, 14, 14, 14, 15, 15, 15, 15, 15, 15, 15, 15]\n",
      "(157, 28)\n",
      "Probabilities of experiments are (True/False) majorana zero mode:\n",
      "[0.1728747, 0.2879333, 0.56795955, 0.0114132585, 0.34154153, 0.4620103, 0.007675831, 0.4344964, 0.12696715, 0.2528075, 0.14624916, 0.007675831, 0.4166106, 0.28149843, 0.024170186, 0.024378475]\n"
     ]
    }
   ],
   "source": [
    "# Read the xgboost model: 94% accuracy\n",
    "import numpy as np\n",
    "import xgboost as xgb\n",
    "from sklearn import datasets\n",
    "import pickle\n",
    "from matplotlib import pyplot as plt\n",
    "\n",
    "with open('clf_xgboost_1d.pickle', 'rb') as f:\n",
    "    clf2 = pickle.load(f)\n",
    "\n",
    "trial_data = np.load('total_exp_data.npy')\n",
    "\n",
    "N = len(trial_data)\n",
    "M = 28\n",
    "print(np.shape(trial_data))\n",
    "\n",
    "data_1D = []\n",
    "indexes = []\n",
    "for i in range(N):\n",
    "    for j in range(M):\n",
    "        route = trial_data[i][:, j]\n",
    "        if np.argmax(route[M // 2 -3: M//2 + 3]) in [2, 3]:\n",
    "            route += 0 * np.random.normal(size=28)\n",
    "            data_1D.append(route)\n",
    "            indexes.append(i)\n",
    "            #labels.append(labels_2D[i])\n",
    "print(indexes)\n",
    "data_1D = np.array(data_1D)\n",
    "\n",
    "print(np.shape(data_1D))\n",
    "\n",
    "result = clf2.predict(xgb.DMatrix(data_1D))\n",
    "print(f'Probabilities of experiments are (True/False) majorana zero mode:')\n",
    "#print(result)\n",
    "\n",
    "result_prob = [max([result[i] for i, x in enumerate(indexes) if int(x) == int(j)]) for j in range(16)]\n",
    "print(result_prob)\n",
    "result_prob = np.array(result_prob)"
   ]
  },
  {
   "cell_type": "markdown",
   "metadata": {},
   "source": [
    "Plot some histogram:"
   ]
  },
  {
   "cell_type": "code",
   "execution_count": 44,
   "metadata": {},
   "outputs": [
    {
     "data": {
      "image/png": "[encoded data removed]",
      "text/plain": [
       "<Figure size 432x288 with 1 Axes>"
      ]
     },
     "metadata": {
      "needs_background": "light"
     },
     "output_type": "display_data"
    }
   ],
   "source": [
    "from matplotlib import pyplot as plt\n",
    "values = 1 - result_prob\n",
    "indexes = range(1, 17)\n",
    "\n",
    "plt.rcParams['font.size'] = 12\n",
    "for idx, val in zip(indexes, values):\n",
    "    color = 'darkgreen' if val < 0.5 else 'darkred'\n",
    "    plt.bar(idx, val, color=color, alpha=0.7)\n",
    "\n",
    "plt.fill_between(range(21), 0, 0.5, color='green', alpha=0.3)\n",
    "plt.fill_between(range(21), 0.5, 1, color='red', alpha=0.3)\n",
    "plt.xticks(range(1, 17))\n",
    "plt.xlabel('Exp 1D Sample Data')\n",
    "plt.xlim(0, 20)\n",
    "plt.ylim(0, 1.05)\n",
    "plt.ylabel('Null Result Probability')\n",
    "plt.savefig('Exptrial_results_1d.svg')\n",
    "plt.show()"
   ]
  }
 ],
 "metadata": {
  "kernelspec": {
   "display_name": "Python 3",
   "language": "python",
   "name": "python3"
  },
  "language_info": {
   "codemirror_mode": {
    "name": "ipython",
    "version": 3
   },
   "file_extension": ".py",
   "mimetype": "text/x-python",
   "name": "python",
   "nbconvert_exporter": "python",
   "pygments_lexer": "ipython3",
   "version": "3.8.0"
  },
  "orig_nbformat": 4
 },
 "nbformat": 4,
 "nbformat_minor": 2
}
